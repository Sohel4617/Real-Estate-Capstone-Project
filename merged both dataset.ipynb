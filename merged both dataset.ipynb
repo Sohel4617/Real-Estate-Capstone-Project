{
 "cells": [
  {
   "cell_type": "code",
   "execution_count": 1,
   "id": "5d65551f",
   "metadata": {},
   "outputs": [],
   "source": [
    "import pandas as pd"
   ]
  },
  {
   "cell_type": "code",
   "execution_count": 2,
   "id": "e23b57a5",
   "metadata": {},
   "outputs": [],
   "source": [
    "flats = pd.read_csv('flats_cleaned.csv')\n",
    "houses = pd.read_csv('houses_cleaned.csv')"
   ]
  },
  {
   "cell_type": "code",
   "execution_count": 3,
   "id": "929ecc1a",
   "metadata": {},
   "outputs": [],
   "source": [
    "df = pd.concat([flats,houses],ignore_index = True)"
   ]
  },
  {
   "cell_type": "code",
   "execution_count": 4,
   "id": "4a8feb1c",
   "metadata": {},
   "outputs": [],
   "source": [
    "df =df.sample(df.shape[0] , ignore_index = True)"
   ]
  },
  {
   "cell_type": "code",
   "execution_count": 7,
   "id": "9a839f4c",
   "metadata": {},
   "outputs": [
    {
     "data": {
      "text/plain": [
       "Index(['property_name', 'property_type', 'society', 'price', 'price_per_sqft',\n",
       "       'area', 'areaWithType', 'bedRoom', 'bathroom', 'balcony',\n",
       "       'additionalRoom', 'address', 'floorNum', 'facing', 'agePossession',\n",
       "       'nearbyLocations', 'description', 'furnishDetails', 'features',\n",
       "       'rating'],\n",
       "      dtype='object')"
      ]
     },
     "execution_count": 7,
     "metadata": {},
     "output_type": "execute_result"
    }
   ],
   "source": [
    "df.columns"
   ]
  },
  {
   "cell_type": "code",
   "execution_count": 8,
   "id": "a9ce5b3f",
   "metadata": {},
   "outputs": [],
   "source": [
    "df.to_csv('gurgaon_properties.csv')"
   ]
  },
  {
   "cell_type": "code",
   "execution_count": null,
   "id": "767215a0",
   "metadata": {},
   "outputs": [],
   "source": []
  }
 ],
 "metadata": {
  "kernelspec": {
   "display_name": "Python 3 (ipykernel)",
   "language": "python",
   "name": "python3"
  },
  "language_info": {
   "codemirror_mode": {
    "name": "ipython",
    "version": 3
   },
   "file_extension": ".py",
   "mimetype": "text/x-python",
   "name": "python",
   "nbconvert_exporter": "python",
   "pygments_lexer": "ipython3",
   "version": "3.11.4"
  }
 },
 "nbformat": 4,
 "nbformat_minor": 5
}
